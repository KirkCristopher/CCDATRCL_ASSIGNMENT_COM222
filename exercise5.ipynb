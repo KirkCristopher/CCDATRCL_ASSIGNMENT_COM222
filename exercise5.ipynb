{
  "cells": [
    {
      "cell_type": "markdown",
      "metadata": {
        "id": "view-in-github",
        "colab_type": "text"
      },
      "source": [
        "<a href=\"https://colab.research.google.com/github/KirkCristopher/CCDATRCL_ASSIGNMENT_COM222/blob/main/exercise5.ipynb\" target=\"_parent\"><img src=\"https://colab.research.google.com/assets/colab-badge.svg\" alt=\"Open In Colab\"/></a>"
      ]
    },
    {
      "cell_type": "markdown",
      "metadata": {
        "id": "Z9u0rSYDF74q"
      },
      "source": [
        "# Exercise 5"
      ]
    },
    {
      "cell_type": "markdown",
      "metadata": {
        "id": "dvFioruiF74t"
      },
      "source": [
        "#### 1. Create a dictionary of your 10 favorite songs."
      ]
    },
    {
      "cell_type": "markdown",
      "metadata": {
        "id": "sMLTMWRwF74u"
      },
      "source": [
        "Example:\n",
        "\n",
        "|KEY|VALUE|\n",
        "|---|---|\n",
        "|001|My Love|\n",
        "|002|Like a rose|"
      ]
    },
    {
      "cell_type": "code",
      "execution_count": 2,
      "metadata": {
        "id": "h1ilpcPFF74v"
      },
      "outputs": [],
      "source": [
        "songsko = {\n",
        "    \"001\": \"Gusto\",\n",
        "    \"002\": \"Rapstar\",\n",
        "    \"003\": \"Enough is Enough\",\n",
        "    \"004\": \"Chemical\",\n",
        "    \"005\": \"Wrapped Around your Finger\",\n",
        "    \"006\": \"Mourning\",\n",
        "    \"007\": \"Motley Crew\",\n",
        "    \"008\": \"As It Was\",\n",
        "    \"009\": \"Adore You\",\n",
        "    \"010\": \"Raining In Manila\",\n",
        "}"
      ]
    },
    {
      "cell_type": "markdown",
      "metadata": {
        "id": "LTXzD2VpF74w"
      },
      "source": [
        "#### 2. Loop through the dictionary by its **key** and **value**"
      ]
    },
    {
      "cell_type": "code",
      "execution_count": 3,
      "metadata": {
        "id": "OpyzEc0ZF74w",
        "outputId": "267b377f-a8e1-4764-e8f5-67d497b5b318",
        "colab": {
          "base_uri": "https://localhost:8080/"
        }
      },
      "outputs": [
        {
          "output_type": "stream",
          "name": "stdout",
          "text": [
            "001 Gusto\n",
            "002 Rapstar\n",
            "003 Enough is Enough\n",
            "004 Chemical\n",
            "005 Wrapped Around your Finger\n",
            "006 Mourning\n",
            "007 Motley Crew\n",
            "008 As It Was\n",
            "009 Adore You\n",
            "010 Raining In Manila\n"
          ]
        }
      ],
      "source": [
        "for key, val in songsko.items():\n",
        "  print(key, val)"
      ]
    },
    {
      "cell_type": "markdown",
      "metadata": {
        "id": "SAPVAe4_F74w"
      },
      "source": [
        "#### 3. Add one additional song"
      ]
    },
    {
      "cell_type": "code",
      "execution_count": 4,
      "metadata": {
        "id": "CILtEwRjF74x",
        "outputId": "01ee098d-7ff6-4aba-a6c2-0e08de7d0d2d",
        "colab": {
          "base_uri": "https://localhost:8080/"
        }
      },
      "outputs": [
        {
          "output_type": "stream",
          "name": "stdout",
          "text": [
            "001 Gusto\n",
            "002 Rapstar\n",
            "003 Enough is Enough\n",
            "004 Chemical\n",
            "005 Wrapped Around your Finger\n",
            "006 Mourning\n",
            "007 Motley Crew\n",
            "008 As It Was\n",
            "009 Adore You\n",
            "010 Raining In Manila\n",
            "011 We Don't Die We Multiply\n"
          ]
        }
      ],
      "source": [
        "songsko[\"011\"] = \"We Don't Die We Multiply\"\n",
        "\n",
        "for key, val in songsko.items():\n",
        "  print(key, val)"
      ]
    },
    {
      "cell_type": "markdown",
      "metadata": {
        "id": "M8fF-NKkF74x"
      },
      "source": [
        "#### 4. Remove one song"
      ]
    },
    {
      "cell_type": "code",
      "execution_count": 5,
      "metadata": {
        "id": "uoriN0x4F74x",
        "outputId": "2e45d234-177b-4899-b203-104bd25b105f",
        "colab": {
          "base_uri": "https://localhost:8080/"
        }
      },
      "outputs": [
        {
          "output_type": "stream",
          "name": "stdout",
          "text": [
            "001 Gusto\n",
            "002 Rapstar\n",
            "003 Enough is Enough\n",
            "004 Chemical\n",
            "005 Wrapped Around your Finger\n",
            "006 Mourning\n",
            "007 Motley Crew\n",
            "008 As It Was\n",
            "009 Adore You\n",
            "010 Raining In Manila\n"
          ]
        }
      ],
      "source": [
        "songsko.pop(\"011\")\n",
        "\n",
        "for key, val in songsko.items():\n",
        "  print(key, val)"
      ]
    },
    {
      "cell_type": "markdown",
      "metadata": {
        "id": "_IAx03_jF74y"
      },
      "source": [
        "#### 5. Create a nested dictionary of your 10 favorite songs with 5 genres. Display all of the items of the nested dictionary\n",
        "\n",
        "- Each nested dictionary's key should be the genre of the song\n",
        "- Put each song in their respective genre"
      ]
    },
    {
      "cell_type": "markdown",
      "metadata": {
        "id": "LNCYusAPF74y"
      },
      "source": [
        "Example:\n",
        "\n",
        "\n",
        "|KEY|VALUE|\n",
        "|---|---|\n",
        "|Pop|{001, Baby}|\n",
        "|Rock|{001, Enter Sandman}|"
      ]
    },
    {
      "cell_type": "code",
      "execution_count": 6,
      "metadata": {
        "id": "0YZ39f_PF74y"
      },
      "outputs": [],
      "source": [
        "songs = {\n",
        "    \"RNB\": {\n",
        "        \"001\": \"White Iverson\", \"002\": \"Goodbyes\", \"003\": \"Psycho\", \"004\": \"Circles\"\n",
        "    },\n",
        "\n",
        "    \"Rock\": {\n",
        "        \"001\": \"Body On Me\", \"002\": \"Black And Yellow\", \"003\": \"Freaky Friday\"\n",
        "    },\n",
        "\n",
        "    \"OPM\": {\n",
        "        \"001\": \"Ikaw At Ako\", \"002\": \"Patawad, Paalam\", \"003\": \"Tagpuan\"\n",
        "    }\n",
        "}"
      ]
    },
    {
      "cell_type": "markdown",
      "metadata": {
        "id": "gwPOk18kF74y"
      },
      "source": [
        "#### 6. Print the first song of the first genre"
      ]
    },
    {
      "cell_type": "code",
      "execution_count": 7,
      "metadata": {
        "id": "KvkUxGuVF74y",
        "outputId": "395b3210-59c6-41a0-f55d-f718dfd5167f",
        "colab": {
          "base_uri": "https://localhost:8080/"
        }
      },
      "outputs": [
        {
          "output_type": "stream",
          "name": "stdout",
          "text": [
            "White Iverson\n"
          ]
        }
      ],
      "source": [
        "print(songs[\"RNB\"][\"001\"])"
      ]
    },
    {
      "cell_type": "markdown",
      "metadata": {
        "id": "u_N_WYt0F74z"
      },
      "source": [
        "#### 7. Print the first song of the last genre"
      ]
    },
    {
      "cell_type": "code",
      "execution_count": 8,
      "metadata": {
        "id": "yn6WtOywF74z",
        "outputId": "88e2e1ab-33d5-49ba-8747-54372956a78b",
        "colab": {
          "base_uri": "https://localhost:8080/"
        }
      },
      "outputs": [
        {
          "output_type": "stream",
          "name": "stdout",
          "text": [
            "Ikaw At Ako\n"
          ]
        }
      ],
      "source": [
        "print(songs[\"OPM\"][\"001\"])"
      ]
    }
  ],
  "metadata": {
    "kernelspec": {
      "display_name": "Python 3",
      "language": "python",
      "name": "python3"
    },
    "language_info": {
      "codemirror_mode": {
        "name": "ipython",
        "version": 3
      },
      "file_extension": ".py",
      "mimetype": "text/x-python",
      "name": "python",
      "nbconvert_exporter": "python",
      "pygments_lexer": "ipython3",
      "version": "3.11.4"
    },
    "orig_nbformat": 4,
    "colab": {
      "provenance": [],
      "include_colab_link": true
    }
  },
  "nbformat": 4,
  "nbformat_minor": 0
}