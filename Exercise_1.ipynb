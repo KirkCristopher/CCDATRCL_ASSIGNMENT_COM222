{
  "nbformat": 4,
  "nbformat_minor": 0,
  "metadata": {
    "colab": {
      "provenance": [],
      "authorship_tag": "ABX9TyOoXPp/L/sxtKRUFKPZbpEA",
      "include_colab_link": true
    },
    "kernelspec": {
      "name": "python3",
      "display_name": "Python 3"
    },
    "language_info": {
      "name": "python"
    }
  },
  "cells": [
    {
      "cell_type": "markdown",
      "metadata": {
        "id": "view-in-github",
        "colab_type": "text"
      },
      "source": [
        "<a href=\"https://colab.research.google.com/github/KirkCristopher/CCDATRCL_ASSIGNMENT_COM222/blob/main/Exercise_1.ipynb\" target=\"_parent\"><img src=\"https://colab.research.google.com/assets/colab-badge.svg\" alt=\"Open In Colab\"/></a>"
      ]
    },
    {
      "cell_type": "markdown",
      "source": [
        "# Exercise 1"
      ],
      "metadata": {
        "id": "XSmcZ3QRqeLv"
      }
    },
    {
      "cell_type": "markdown",
      "source": [
        "## Class Initialization"
      ],
      "metadata": {
        "id": "XDtaNo0bqlDY"
      }
    },
    {
      "cell_type": "code",
      "execution_count": null,
      "metadata": {
        "id": "ya_5aWBEo7pN"
      },
      "outputs": [],
      "source": [
        "class Node:\n",
        "    def __init__(self, data):\n",
        "        self.data = data\n",
        "        self.next = None\n",
        "        self.prev = None"
      ]
    },
    {
      "cell_type": "code",
      "source": [
        "class LinkedList:\n",
        "\n",
        "    def __init__(self):\n",
        "        self.head = None\n",
        "\n",
        "    def traverse(self, node):\n",
        "        while node:\n",
        "            print(node.data, end=\" -> \")\n",
        "            node = node.next"
      ],
      "metadata": {
        "id": "EfRl-fx1pG1x"
      },
      "execution_count": null,
      "outputs": []
    },
    {
      "cell_type": "code",
      "source": [
        "class DoublyLinkedList:\n",
        "\n",
        "    def __init__(self):\n",
        "        self.head = None\n",
        "\n",
        "    def traverse(self, node):\n",
        "        while node:\n",
        "            print(node.data, end=\" -> \")\n",
        "            node = node.next"
      ],
      "metadata": {
        "id": "GuHN5KBhpKFY"
      },
      "execution_count": null,
      "outputs": []
    },
    {
      "cell_type": "code",
      "source": [
        "class CircularLinkedList:\n",
        "\n",
        "    def __init__(self):\n",
        "        self.head = None\n",
        "\n",
        "    def traverse(self, node):\n",
        "\n",
        "        head = node\n",
        "\n",
        "        while node:\n",
        "            print(node.data, end=\" -> \")\n",
        "            node = node.next\n",
        "\n",
        "            if node == head:\n",
        "                break"
      ],
      "metadata": {
        "id": "3ELGA4GBpMhg"
      },
      "execution_count": null,
      "outputs": []
    },
    {
      "cell_type": "markdown",
      "source": [
        "#### 1. Create a Singly Linked list\n",
        "\n",
        "- Each node should contain your name and your seatmates in your row\n",
        "- Create at least 5 nodes\n",
        "- Traverse all nodes"
      ],
      "metadata": {
        "id": "Mbdet7Ybpe4Q"
      }
    },
    {
      "cell_type": "code",
      "source": [
        "seatmates_LL = LinkedList()\n",
        "\n",
        "seatmates_LL.head = Node(\"Kirk\")\n",
        "node_b = Node(\"Van\")\n",
        "node_c = Node(\"Raphael\")\n",
        "node_d = Node(\"Dwight\")\n",
        "node_e = Node(\"Gab\")\n",
        "\n",
        "seatmates_LL.head.next = node_b\n",
        "node_b.next = node_c\n",
        "node_c.next = node_d\n",
        "node_d.next = node_e\n",
        "\n",
        "seatmates_LL.traverse(seatmates_LL.head)"
      ],
      "metadata": {
        "id": "NTVOAy_vp0TI"
      },
      "execution_count": null,
      "outputs": []
    },
    {
      "cell_type": "markdown",
      "source": [
        "#### 2. Create a Doubly Linked list\n",
        "\n",
        "- Each node should contain your name and your seatmates in your row\n",
        "- Create at least 5 nodes\n",
        "- Traverse all nodes"
      ],
      "metadata": {
        "id": "dWcVtu62p1Ao"
      }
    },
    {
      "cell_type": "code",
      "source": [
        "seatmates_DLL = DoublyLinkedList()\n",
        "\n",
        "seatmates_DLL.head = Node(\"Kirk\")\n",
        "node_b = Node(\"Van\")\n",
        "node_c = Node(\"Raphael\")\n",
        "node_d = Node(\"Dwight\")\n",
        "node_e = Node(\"Gab\")\n",
        "\n",
        "seatmates_DLL.head.next = node_b\n",
        "\n",
        "node_b.prev = seatmates_DLL.head\n",
        "node_b.next = node_c\n",
        "\n",
        "node_c.prev = node_b\n",
        "node_c.next = node_d\n",
        "\n",
        "node_d.prev = node_c\n",
        "node_d.next = node_e\n",
        "\n",
        "node_e.prev = node_d\n",
        "\n",
        "seatmates_DLL.traverse(seatmates_DLL.head)"
      ],
      "metadata": {
        "id": "QlEY30sSp3jw"
      },
      "execution_count": null,
      "outputs": []
    },
    {
      "cell_type": "markdown",
      "source": [
        "#### 3. Create a Circular Linked list\n",
        "\n",
        "- Each node should contain your name and your seatmates in your row\n",
        "- Create at least 5 nodes\n",
        "- Traverse all nodes"
      ],
      "metadata": {
        "id": "DRXePtsvqIip"
      }
    },
    {
      "cell_type": "code",
      "source": [
        "seatmates_CLL = CircularLinkedList()\n",
        "\n",
        "seatmates_CLL.head = Node(\"Kirk\")\n",
        "node_b = Node(\"Van\")\n",
        "node_c = Node(\"Raphael\")\n",
        "node_d = Node(\"Dwight\")\n",
        "node_e = Node(\"Gab\")\n",
        "\n",
        "seatmates_CLL.head.next = node_b\n",
        "node_b.next = node_c\n",
        "node_c.next = node_d\n",
        "node_d.next = node_e\n",
        "node_e.next = seatmates_CLL.head\n",
        "\n",
        "seatmates_CLL.traverse(seatmates_CLL.head)"
      ],
      "metadata": {
        "id": "NoxZW7RVqXzv"
      },
      "execution_count": null,
      "outputs": []
    }
  ]
}